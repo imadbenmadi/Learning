{
 "cells": [
  {
   "cell_type": "markdown",
   "metadata": {},
   "source": [
    "![Title](Images/cisco.png)"
   ]
  },
  {
   "cell_type": "markdown",
   "metadata": {},
   "source": [
    "# Main Steps in Data Analysis\n",
    "\n",
    "\n",
    "## 1. Defining the Problem\n",
    "\n",
    "\n",
    "## 2. Data Collection\n",
    "\n",
    "\n",
    "## 3. Data Cleaning and Preparation\n",
    "\n",
    "\n",
    "## 4. Exploratory Data Analysis (EDA)\n",
    "\n",
    "- **Purpose**: Explore and visualize data to identify patterns or trends\n",
    "\n",
    "## 5. Data Modeling and Analysis\n",
    "\n",
    "\n",
    "- **Objective**: Apply statistical or machine learning techniques\n",
    "- **Goal**: Derive insights or make predictions based on data\n",
    "\n",
    "## 6. Interpretation and Communication\n",
    "\n"
   ]
  },
  {
   "cell_type": "markdown",
   "metadata": {},
   "source": [
    "\n",
    "## Exploratory Data Analysis (EDA)\n",
    "\n",
    "- EDA involves:\n",
    "  - **Methods**\n",
    "  - **Tools**\n",
    "  - **Techniques** \n",
    "- Purpose:\n",
    "  - To examine, summarize, and visualize datasets\n",
    "  - Identify patterns, trends, relationships, and anomalies\n",
    "\n",
    "---\n",
    "\n",
    "## Components of EDA\n",
    "\n",
    "- **Descriptive Statistics**: Summarize key characteristics of data\n",
    "- **Graphical Representations**: Visualize data distributions\n",
    "- **Correlation Analysis**: Analyze relationships between variables\n",
    "- **Outlier Detection**: Identify unusual data points\n",
    "\n",
    "---\n",
    "\n",
    "## Goals of EDA\n",
    "\n",
    "- Gain initial insights into data\n",
    "- Generate hypotheses\n",
    "- Inform further analysis and modeling\n",
    "\n",
    "---\n",
    "\n",
    "## 1. Descriptive Analysis\n",
    "\n",
    "- Summarizes main features of a dataset\n",
    "- Focus on:\n",
    "  - **Central Tendency**: Mean, median, mode\n",
    "  - **Distribution**: Spread of values, variance, standard deviation, quartiles\n",
    "- Provides a clear understanding of data characteristics\n",
    "\n",
    "---\n",
    "\n",
    "## 2. Correlation Analysis\n",
    "\n",
    "- Examines relationships between variables\n",
    "- Helps identify patterns and associations\n",
    "- Used to understand how variables may influence each other\n"
   ]
  },
  {
   "cell_type": "markdown",
   "metadata": {},
   "source": [
    "## Example:  Descriptive analysis on Human height"
   ]
  },
  {
   "cell_type": "markdown",
   "metadata": {},
   "source": [
    "# NHANES Dataset Overview\n",
    "\n",
    "## What is NHANES?\n",
    "\n",
    "- **NHANES**: National Health and Nutrition Examination Survey\n",
    "- A real-life dataset for health and nutrition research"
   ]
  },
  {
   "cell_type": "markdown",
   "metadata": {},
   "source": [
    "## Data Collection\n",
    "\n",
    "- **Methods**:\n",
    "  - Interviews\n",
    "  - Physical Examinations\n",
    "  - Laboratory Tests\n",
    "- **Topics**:\n",
    "  - Demographics\n",
    "  - Dietary Intake\n",
    "  - Physical Activity\n",
    "  - Health Conditions\n",
    "  - Laboratory Measurements\n"
   ]
  },
  {
   "cell_type": "markdown",
   "metadata": {},
   "source": [
    "## Who Uses NHANES Data?\n",
    "\n",
    "- **Users**:\n",
    "  - Researchers\n",
    "  - Policymakers\n",
    "  - Public Health Professionals\n",
    "- **Applications**:\n",
    "  - Assessing health trends\n",
    "  - Identifying disease risk factors\n",
    "  - Informing public health interventions and policies\n"
   ]
  },
  {
   "cell_type": "markdown",
   "metadata": {},
   "source": [
    "## Why NHANES is Important\n",
    "\n",
    "- Provides comprehensive data on health and nutrition\n",
    "- Aids in understanding public health trends\n",
    "- Supports evidence-based policy decisions"
   ]
  },
  {
   "cell_type": "code",
   "execution_count": 1,
   "metadata": {},
   "outputs": [
    {
     "name": "stdout",
     "output_type": "stream",
     "text": [
      "Collecting nhanes\n",
      "  Downloading nhanes-0.5.1-py3-none-any.whl.metadata (750 bytes)\n",
      "Downloading nhanes-0.5.1-py3-none-any.whl (1.6 MB)\n",
      "   ---------------------------------------- 0.0/1.6 MB ? eta -:--:--\n",
      "   ------ --------------------------------- 0.3/1.6 MB ? eta -:--:--\n",
      "   ---------------------------------------- 1.6/1.6 MB 5.8 MB/s eta 0:00:00\n",
      "Installing collected packages: nhanes\n",
      "Successfully installed nhanes-0.5.1\n"
     ]
    }
   ],
   "source": [
    "!pip install nhanes"
   ]
  },
  {
   "cell_type": "markdown",
   "metadata": {},
   "source": [
    "## Importing modules"
   ]
  },
  {
   "cell_type": "code",
   "execution_count": 2,
   "metadata": {},
   "outputs": [],
   "source": [
    "import pandas as pd\n",
    "import matplotlib.pyplot as plt\n",
    "from nhanes.load import load_NHANES_data"
   ]
  },
  {
   "cell_type": "markdown",
   "metadata": {},
   "source": [
    "## Importing dataset"
   ]
  },
  {
   "cell_type": "code",
   "execution_count": 3,
   "metadata": {},
   "outputs": [],
   "source": [
    "# Load NHANES data\n",
    "nhanes_data = load_NHANES_data()\n"
   ]
  },
  {
   "cell_type": "code",
   "execution_count": 4,
   "metadata": {},
   "outputs": [
    {
     "data": {
      "text/html": [
       "<div>\n",
       "<style scoped>\n",
       "    .dataframe tbody tr th:only-of-type {\n",
       "        vertical-align: middle;\n",
       "    }\n",
       "\n",
       "    .dataframe tbody tr th {\n",
       "        vertical-align: top;\n",
       "    }\n",
       "\n",
       "    .dataframe thead th {\n",
       "        text-align: right;\n",
       "    }\n",
       "</style>\n",
       "<table border=\"1\" class=\"dataframe\">\n",
       "  <thead>\n",
       "    <tr style=\"text-align: right;\">\n",
       "      <th></th>\n",
       "      <th>GeneralHealthCondition</th>\n",
       "      <th>EverBreastfedOrFedBreastmilk</th>\n",
       "      <th>AgeStoppedBreastfeedingdays</th>\n",
       "      <th>AgeFirstFedFormuladays</th>\n",
       "      <th>AgeStoppedReceivingFormuladays</th>\n",
       "      <th>AgeStartedOtherFoodbeverage</th>\n",
       "      <th>AgeFirstFedMilkdays</th>\n",
       "      <th>TypeOfMilkFirstFedWholeMilk</th>\n",
       "      <th>TypeOfMilkFirstFed2Milk</th>\n",
       "      <th>TypeOfMilkFirstFed1Milk</th>\n",
       "      <th>...</th>\n",
       "      <th>DaysSmokedCigsDuringPast30Days</th>\n",
       "      <th>AvgCigarettesdayDuringPast30Days</th>\n",
       "      <th>TriedToQuitSmoking</th>\n",
       "      <th>TimesStoppedSmokingCigarettes</th>\n",
       "      <th>HowLongWereYouAbleToStopSmoking</th>\n",
       "      <th>UnitOfMeasureDayweekmonthyear_2_SMQ</th>\n",
       "      <th>CurrentSelfreportedHeightInches</th>\n",
       "      <th>CurrentSelfreportedWeightPounds</th>\n",
       "      <th>TriedToLoseWeightInPastYear</th>\n",
       "      <th>TimesLost10LbsOrMoreToLoseWeight</th>\n",
       "    </tr>\n",
       "    <tr>\n",
       "      <th>SEQN</th>\n",
       "      <th></th>\n",
       "      <th></th>\n",
       "      <th></th>\n",
       "      <th></th>\n",
       "      <th></th>\n",
       "      <th></th>\n",
       "      <th></th>\n",
       "      <th></th>\n",
       "      <th></th>\n",
       "      <th></th>\n",
       "      <th></th>\n",
       "      <th></th>\n",
       "      <th></th>\n",
       "      <th></th>\n",
       "      <th></th>\n",
       "      <th></th>\n",
       "      <th></th>\n",
       "      <th></th>\n",
       "      <th></th>\n",
       "      <th></th>\n",
       "      <th></th>\n",
       "    </tr>\n",
       "  </thead>\n",
       "  <tbody>\n",
       "    <tr>\n",
       "      <th>93703.0</th>\n",
       "      <td>NaN</td>\n",
       "      <td>1.0</td>\n",
       "      <td>273.0</td>\n",
       "      <td>1.0</td>\n",
       "      <td>365.0</td>\n",
       "      <td>152.0</td>\n",
       "      <td>365.0</td>\n",
       "      <td>Whole or regular milk</td>\n",
       "      <td>NaN</td>\n",
       "      <td>NaN</td>\n",
       "      <td>...</td>\n",
       "      <td>NaN</td>\n",
       "      <td>NaN</td>\n",
       "      <td>NaN</td>\n",
       "      <td>NaN</td>\n",
       "      <td>NaN</td>\n",
       "      <td>NaN</td>\n",
       "      <td>NaN</td>\n",
       "      <td>NaN</td>\n",
       "      <td>NaN</td>\n",
       "      <td>NaN</td>\n",
       "    </tr>\n",
       "    <tr>\n",
       "      <th>93704.0</th>\n",
       "      <td>NaN</td>\n",
       "      <td>1.0</td>\n",
       "      <td>60.0</td>\n",
       "      <td>3.0</td>\n",
       "      <td>365.0</td>\n",
       "      <td>126.0</td>\n",
       "      <td>365.0</td>\n",
       "      <td>Whole or regular milk</td>\n",
       "      <td>NaN</td>\n",
       "      <td>NaN</td>\n",
       "      <td>...</td>\n",
       "      <td>NaN</td>\n",
       "      <td>NaN</td>\n",
       "      <td>NaN</td>\n",
       "      <td>NaN</td>\n",
       "      <td>NaN</td>\n",
       "      <td>NaN</td>\n",
       "      <td>NaN</td>\n",
       "      <td>NaN</td>\n",
       "      <td>NaN</td>\n",
       "      <td>NaN</td>\n",
       "    </tr>\n",
       "    <tr>\n",
       "      <th>93705.0</th>\n",
       "      <td>Good</td>\n",
       "      <td>NaN</td>\n",
       "      <td>NaN</td>\n",
       "      <td>NaN</td>\n",
       "      <td>NaN</td>\n",
       "      <td>NaN</td>\n",
       "      <td>NaN</td>\n",
       "      <td>NaN</td>\n",
       "      <td>NaN</td>\n",
       "      <td>NaN</td>\n",
       "      <td>...</td>\n",
       "      <td>NaN</td>\n",
       "      <td>NaN</td>\n",
       "      <td>NaN</td>\n",
       "      <td>NaN</td>\n",
       "      <td>NaN</td>\n",
       "      <td>NaN</td>\n",
       "      <td>63.0</td>\n",
       "      <td>165.0</td>\n",
       "      <td>0.0</td>\n",
       "      <td>11 times or more</td>\n",
       "    </tr>\n",
       "    <tr>\n",
       "      <th>93706.0</th>\n",
       "      <td>Very good</td>\n",
       "      <td>NaN</td>\n",
       "      <td>NaN</td>\n",
       "      <td>NaN</td>\n",
       "      <td>NaN</td>\n",
       "      <td>NaN</td>\n",
       "      <td>NaN</td>\n",
       "      <td>NaN</td>\n",
       "      <td>NaN</td>\n",
       "      <td>NaN</td>\n",
       "      <td>...</td>\n",
       "      <td>NaN</td>\n",
       "      <td>NaN</td>\n",
       "      <td>NaN</td>\n",
       "      <td>NaN</td>\n",
       "      <td>NaN</td>\n",
       "      <td>NaN</td>\n",
       "      <td>68.0</td>\n",
       "      <td>145.0</td>\n",
       "      <td>0.0</td>\n",
       "      <td>Never</td>\n",
       "    </tr>\n",
       "    <tr>\n",
       "      <th>93707.0</th>\n",
       "      <td>Good</td>\n",
       "      <td>NaN</td>\n",
       "      <td>NaN</td>\n",
       "      <td>NaN</td>\n",
       "      <td>NaN</td>\n",
       "      <td>NaN</td>\n",
       "      <td>NaN</td>\n",
       "      <td>NaN</td>\n",
       "      <td>NaN</td>\n",
       "      <td>NaN</td>\n",
       "      <td>...</td>\n",
       "      <td>NaN</td>\n",
       "      <td>NaN</td>\n",
       "      <td>NaN</td>\n",
       "      <td>NaN</td>\n",
       "      <td>NaN</td>\n",
       "      <td>NaN</td>\n",
       "      <td>NaN</td>\n",
       "      <td>NaN</td>\n",
       "      <td>NaN</td>\n",
       "      <td>NaN</td>\n",
       "    </tr>\n",
       "  </tbody>\n",
       "</table>\n",
       "<p>5 rows × 197 columns</p>\n",
       "</div>"
      ],
      "text/plain": [
       "        GeneralHealthCondition  EverBreastfedOrFedBreastmilk  \\\n",
       "SEQN                                                           \n",
       "93703.0                    NaN                           1.0   \n",
       "93704.0                    NaN                           1.0   \n",
       "93705.0                   Good                           NaN   \n",
       "93706.0              Very good                           NaN   \n",
       "93707.0                   Good                           NaN   \n",
       "\n",
       "         AgeStoppedBreastfeedingdays  AgeFirstFedFormuladays  \\\n",
       "SEQN                                                           \n",
       "93703.0                        273.0                     1.0   \n",
       "93704.0                         60.0                     3.0   \n",
       "93705.0                          NaN                     NaN   \n",
       "93706.0                          NaN                     NaN   \n",
       "93707.0                          NaN                     NaN   \n",
       "\n",
       "         AgeStoppedReceivingFormuladays  AgeStartedOtherFoodbeverage  \\\n",
       "SEQN                                                                   \n",
       "93703.0                           365.0                        152.0   \n",
       "93704.0                           365.0                        126.0   \n",
       "93705.0                             NaN                          NaN   \n",
       "93706.0                             NaN                          NaN   \n",
       "93707.0                             NaN                          NaN   \n",
       "\n",
       "         AgeFirstFedMilkdays TypeOfMilkFirstFedWholeMilk  \\\n",
       "SEQN                                                       \n",
       "93703.0                365.0       Whole or regular milk   \n",
       "93704.0                365.0       Whole or regular milk   \n",
       "93705.0                  NaN                         NaN   \n",
       "93706.0                  NaN                         NaN   \n",
       "93707.0                  NaN                         NaN   \n",
       "\n",
       "         TypeOfMilkFirstFed2Milk  TypeOfMilkFirstFed1Milk  ...  \\\n",
       "SEQN                                                       ...   \n",
       "93703.0                      NaN                      NaN  ...   \n",
       "93704.0                      NaN                      NaN  ...   \n",
       "93705.0                      NaN                      NaN  ...   \n",
       "93706.0                      NaN                      NaN  ...   \n",
       "93707.0                      NaN                      NaN  ...   \n",
       "\n",
       "         DaysSmokedCigsDuringPast30Days  AvgCigarettesdayDuringPast30Days  \\\n",
       "SEQN                                                                        \n",
       "93703.0                             NaN                               NaN   \n",
       "93704.0                             NaN                               NaN   \n",
       "93705.0                             NaN                               NaN   \n",
       "93706.0                             NaN                               NaN   \n",
       "93707.0                             NaN                               NaN   \n",
       "\n",
       "         TriedToQuitSmoking TimesStoppedSmokingCigarettes  \\\n",
       "SEQN                                                        \n",
       "93703.0                 NaN                           NaN   \n",
       "93704.0                 NaN                           NaN   \n",
       "93705.0                 NaN                           NaN   \n",
       "93706.0                 NaN                           NaN   \n",
       "93707.0                 NaN                           NaN   \n",
       "\n",
       "        HowLongWereYouAbleToStopSmoking UnitOfMeasureDayweekmonthyear_2_SMQ  \\\n",
       "SEQN                                                                          \n",
       "93703.0                             NaN                                 NaN   \n",
       "93704.0                             NaN                                 NaN   \n",
       "93705.0                             NaN                                 NaN   \n",
       "93706.0                             NaN                                 NaN   \n",
       "93707.0                             NaN                                 NaN   \n",
       "\n",
       "         CurrentSelfreportedHeightInches  CurrentSelfreportedWeightPounds  \\\n",
       "SEQN                                                                        \n",
       "93703.0                              NaN                              NaN   \n",
       "93704.0                              NaN                              NaN   \n",
       "93705.0                             63.0                            165.0   \n",
       "93706.0                             68.0                            145.0   \n",
       "93707.0                              NaN                              NaN   \n",
       "\n",
       "         TriedToLoseWeightInPastYear  TimesLost10LbsOrMoreToLoseWeight  \n",
       "SEQN                                                                    \n",
       "93703.0                          NaN                               NaN  \n",
       "93704.0                          NaN                               NaN  \n",
       "93705.0                          0.0                  11 times or more  \n",
       "93706.0                          0.0                             Never  \n",
       "93707.0                          NaN                               NaN  \n",
       "\n",
       "[5 rows x 197 columns]"
      ]
     },
     "execution_count": 4,
     "metadata": {},
     "output_type": "execute_result"
    }
   ],
   "source": [
    "nhanes_data.head()"
   ]
  },
  {
   "cell_type": "code",
   "execution_count": 5,
   "metadata": {},
   "outputs": [
    {
     "data": {
      "text/plain": [
       "8366"
      ]
     },
     "execution_count": 5,
     "metadata": {},
     "output_type": "execute_result"
    }
   ],
   "source": [
    "len(nhanes_data)"
   ]
  },
  {
   "cell_type": "code",
   "execution_count": 6,
   "metadata": {},
   "outputs": [
    {
     "data": {
      "text/plain": [
       "Index(['GeneralHealthCondition', 'EverBreastfedOrFedBreastmilk',\n",
       "       'AgeStoppedBreastfeedingdays', 'AgeFirstFedFormuladays',\n",
       "       'AgeStoppedReceivingFormuladays', 'AgeStartedOtherFoodbeverage',\n",
       "       'AgeFirstFedMilkdays', 'TypeOfMilkFirstFedWholeMilk',\n",
       "       'TypeOfMilkFirstFed2Milk', 'TypeOfMilkFirstFed1Milk',\n",
       "       ...\n",
       "       'DaysSmokedCigsDuringPast30Days', 'AvgCigarettesdayDuringPast30Days',\n",
       "       'TriedToQuitSmoking', 'TimesStoppedSmokingCigarettes',\n",
       "       'HowLongWereYouAbleToStopSmoking',\n",
       "       'UnitOfMeasureDayweekmonthyear_2_SMQ',\n",
       "       'CurrentSelfreportedHeightInches', 'CurrentSelfreportedWeightPounds',\n",
       "       'TriedToLoseWeightInPastYear', 'TimesLost10LbsOrMoreToLoseWeight'],\n",
       "      dtype='object', length=197)"
      ]
     },
     "execution_count": 6,
     "metadata": {},
     "output_type": "execute_result"
    }
   ],
   "source": [
    "nhanes_data.columns"
   ]
  },
  {
   "cell_type": "code",
   "execution_count": 7,
   "metadata": {},
   "outputs": [
    {
     "data": {
      "text/plain": [
       "197"
      ]
     },
     "execution_count": 7,
     "metadata": {},
     "output_type": "execute_result"
    }
   ],
   "source": [
    "len(nhanes_data.columns)"
   ]
  },
  {
   "cell_type": "code",
   "execution_count": 8,
   "metadata": {},
   "outputs": [
    {
     "data": {
      "text/plain": [
       "(8366, 197)"
      ]
     },
     "execution_count": 8,
     "metadata": {},
     "output_type": "execute_result"
    }
   ],
   "source": [
    "nhanes_data.shape"
   ]
  },
  {
   "cell_type": "code",
   "execution_count": 9,
   "metadata": {},
   "outputs": [
    {
     "data": {
      "text/plain": [
       "pandas.core.frame.DataFrame"
      ]
     },
     "execution_count": 9,
     "metadata": {},
     "output_type": "execute_result"
    }
   ],
   "source": [
    "# print type of nhanes_data \n",
    "type(nhanes_data)"
   ]
  },
  {
   "cell_type": "code",
   "execution_count": 5,
   "metadata": {},
   "outputs": [
    {
     "data": {
      "text/plain": [
       "SEQN\n",
       "93703.0      NaN\n",
       "93704.0      NaN\n",
       "93705.0     63.0\n",
       "93706.0     68.0\n",
       "93707.0      NaN\n",
       "            ... \n",
       "102952.0     NaN\n",
       "102953.0    65.0\n",
       "102954.0    66.0\n",
       "102955.0     NaN\n",
       "102956.0    69.0\n",
       "Name: CurrentSelfreportedHeightInches, Length: 8366, dtype: float64"
      ]
     },
     "execution_count": 5,
     "metadata": {},
     "output_type": "execute_result"
    }
   ],
   "source": [
    "# print 'CurrentSelfreportedHeightInches' column.\n",
    "nhanes_data['CurrentSelfreportedHeightInches' ]\n"
   ]
  },
  {
   "cell_type": "markdown",
   "metadata": {},
   "source": [
    "1. **Generate a Series in Centimeters**\n",
    "   - Use the `CurrentSelfreportedHeightInches` column from `nhanes_data`.\n",
    "   - Convert each value from inches to centimeters (1 inch = 2.54 cm).\n",
    "\n",
    "2. **Save the Series**\n",
    "   - Store the resulting Series in a new variable named `height_data`.\n",
    "\n"
   ]
  },
  {
   "cell_type": "code",
   "execution_count": 10,
   "metadata": {},
   "outputs": [],
   "source": [
    "height_data = nhanes_data['CurrentSelfreportedHeightInches']*2.54"
   ]
  },
  {
   "cell_type": "code",
   "execution_count": 11,
   "metadata": {},
   "outputs": [
    {
     "name": "stdout",
     "output_type": "stream",
     "text": [
      "SEQN\n",
      "93703.0        NaN\n",
      "93704.0        NaN\n",
      "93705.0     160.02\n",
      "93706.0     172.72\n",
      "93707.0        NaN\n",
      "             ...  \n",
      "102952.0       NaN\n",
      "102953.0    165.10\n",
      "102954.0    167.64\n",
      "102955.0       NaN\n",
      "102956.0    175.26\n",
      "Name: CurrentSelfreportedHeightInches, Length: 8366, dtype: float64\n"
     ]
    }
   ],
   "source": [
    "print( height_data)"
   ]
  },
  {
   "cell_type": "code",
   "execution_count": 12,
   "metadata": {},
   "outputs": [
    {
     "data": {
      "text/plain": [
       "pandas.core.series.Series"
      ]
     },
     "execution_count": 12,
     "metadata": {},
     "output_type": "execute_result"
    }
   ],
   "source": [
    "type(height_data)"
   ]
  },
  {
   "cell_type": "code",
   "execution_count": 13,
   "metadata": {},
   "outputs": [
    {
     "data": {
      "text/plain": [
       "SEQN\n",
       "93703.0        NaN\n",
       "93704.0        NaN\n",
       "93705.0     160.02\n",
       "93706.0     172.72\n",
       "93707.0        NaN\n",
       "             ...  \n",
       "102952.0       NaN\n",
       "102953.0    165.10\n",
       "102954.0    167.64\n",
       "102955.0       NaN\n",
       "102956.0    175.26\n",
       "Name: CurrentSelfreportedHeightInches, Length: 8366, dtype: float64"
      ]
     },
     "execution_count": 13,
     "metadata": {},
     "output_type": "execute_result"
    }
   ],
   "source": [
    "height_data"
   ]
  },
  {
   "cell_type": "markdown",
   "metadata": {},
   "source": [
    "## Exploring Data"
   ]
  },
  {
   "cell_type": "code",
   "execution_count": 14,
   "metadata": {},
   "outputs": [
    {
     "name": "stdout",
     "output_type": "stream",
     "text": [
      "<class 'pandas.core.series.Series'>\n",
      "Index: 8366 entries, 93703.0 to 102956.0\n",
      "Series name: CurrentSelfreportedHeightInches\n",
      "Non-Null Count  Dtype  \n",
      "--------------  -----  \n",
      "5776 non-null   float64\n",
      "dtypes: float64(1)\n",
      "memory usage: 130.7 KB\n"
     ]
    }
   ],
   "source": [
    "height_data.info()"
   ]
  },
  {
   "cell_type": "code",
   "execution_count": 9,
   "metadata": {},
   "outputs": [
    {
     "data": {
      "text/plain": [
       "SEQN\n",
       "102952.0       NaN\n",
       "102953.0    165.10\n",
       "102954.0    167.64\n",
       "102955.0       NaN\n",
       "102956.0    175.26\n",
       "Name: CurrentSelfreportedHeightInches, dtype: float64"
      ]
     },
     "execution_count": 9,
     "metadata": {},
     "output_type": "execute_result"
    }
   ],
   "source": [
    "height_data.tail()"
   ]
  },
  {
   "cell_type": "code",
   "execution_count": null,
   "metadata": {},
   "outputs": [],
   "source": [
    "height_data.head()"
   ]
  },
  {
   "cell_type": "code",
   "execution_count": null,
   "metadata": {},
   "outputs": [],
   "source": []
  },
  {
   "cell_type": "code",
   "execution_count": null,
   "metadata": {},
   "outputs": [],
   "source": [
    "height_data.head()"
   ]
  },
  {
   "cell_type": "code",
   "execution_count": null,
   "metadata": {},
   "outputs": [],
   "source": [
    "type(height_data)"
   ]
  },
  {
   "cell_type": "markdown",
   "metadata": {},
   "source": [
    "## Cleaning and preparing dataset"
   ]
  },
  {
   "cell_type": "markdown",
   "metadata": {},
   "source": [
    "### Removing non values"
   ]
  },
  {
   "cell_type": "code",
   "execution_count": 15,
   "metadata": {},
   "outputs": [],
   "source": [
    "height_data.dropna(inplace = True)"
   ]
  },
  {
   "cell_type": "code",
   "execution_count": 16,
   "metadata": {},
   "outputs": [
    {
     "name": "stdout",
     "output_type": "stream",
     "text": [
      "<class 'pandas.core.series.Series'>\n",
      "Index: 5776 entries, 93705.0 to 102956.0\n",
      "Series name: CurrentSelfreportedHeightInches\n",
      "Non-Null Count  Dtype  \n",
      "--------------  -----  \n",
      "5776 non-null   float64\n",
      "dtypes: float64(1)\n",
      "memory usage: 90.2 KB\n"
     ]
    }
   ],
   "source": [
    "height_data.info()"
   ]
  },
  {
   "cell_type": "code",
   "execution_count": 17,
   "metadata": {},
   "outputs": [
    {
     "data": {
      "text/plain": [
       "(5776,)"
      ]
     },
     "execution_count": 17,
     "metadata": {},
     "output_type": "execute_result"
    }
   ],
   "source": [
    "height_data.shape"
   ]
  },
  {
   "cell_type": "markdown",
   "metadata": {},
   "source": [
    "### Deleting outliers"
   ]
  },
  {
   "cell_type": "code",
   "execution_count": 18,
   "metadata": {},
   "outputs": [
    {
     "data": {
      "text/plain": [
       "count     5776.000000\n",
       "mean       691.449037\n",
       "std       3592.877997\n",
       "min        124.460000\n",
       "25%        160.020000\n",
       "50%        167.640000\n",
       "75%        177.800000\n",
       "max      25397.460000\n",
       "Name: CurrentSelfreportedHeightInches, dtype: float64"
      ]
     },
     "execution_count": 18,
     "metadata": {},
     "output_type": "execute_result"
    }
   ],
   "source": [
    "height_data.describe()"
   ]
  },
  {
   "cell_type": "code",
   "execution_count": 19,
   "metadata": {},
   "outputs": [
    {
     "name": "stdout",
     "output_type": "stream",
     "text": [
      "SEQN\n",
      "93705.0     160.02\n",
      "93706.0     172.72\n",
      "93708.0     152.40\n",
      "93709.0     157.48\n",
      "93711.0     175.26\n",
      "             ...  \n",
      "102948.0    160.02\n",
      "102949.0    182.88\n",
      "102953.0    165.10\n",
      "102954.0    167.64\n",
      "102956.0    175.26\n",
      "Name: CurrentSelfreportedHeightInches, Length: 5650, dtype: float64\n"
     ]
    }
   ],
   "source": [
    "# Filter the height data series to remove outliers\n",
    "filtered_heights = height_data[(height_data > 130) & (height_data < 204)]\n",
    "\n",
    "# Display the filtered heights\n",
    "print(filtered_heights)"
   ]
  },
  {
   "cell_type": "code",
   "execution_count": 14,
   "metadata": {},
   "outputs": [
    {
     "data": {
      "text/plain": [
       "count    5650.000000\n",
       "mean      168.289611\n",
       "std        10.475220\n",
       "min       134.620000\n",
       "25%       160.020000\n",
       "50%       167.640000\n",
       "75%       175.260000\n",
       "max       200.660000\n",
       "Name: CurrentSelfreportedHeightInches, dtype: float64"
      ]
     },
     "execution_count": 14,
     "metadata": {},
     "output_type": "execute_result"
    }
   ],
   "source": [
    "filtered_heights.describe()"
   ]
  },
  {
   "cell_type": "code",
   "execution_count": 15,
   "metadata": {},
   "outputs": [
    {
     "data": {
      "text/plain": [
       "SEQN\n",
       "93705.0     160.02\n",
       "93706.0     172.72\n",
       "93708.0     152.40\n",
       "93709.0     157.48\n",
       "93711.0     175.26\n",
       "             ...  \n",
       "102948.0    160.02\n",
       "102949.0    182.88\n",
       "102953.0    165.10\n",
       "102954.0    167.64\n",
       "102956.0    175.26\n",
       "Name: CurrentSelfreportedHeightInches, Length: 5650, dtype: float64"
      ]
     },
     "execution_count": 15,
     "metadata": {},
     "output_type": "execute_result"
    }
   ],
   "source": [
    "filtered_heights"
   ]
  },
  {
   "cell_type": "code",
   "execution_count": 20,
   "metadata": {},
   "outputs": [],
   "source": [
    "filtered_heights = filtered_heights.reset_index()"
   ]
  },
  {
   "cell_type": "code",
   "execution_count": 21,
   "metadata": {},
   "outputs": [
    {
     "data": {
      "text/html": [
       "<div>\n",
       "<style scoped>\n",
       "    .dataframe tbody tr th:only-of-type {\n",
       "        vertical-align: middle;\n",
       "    }\n",
       "\n",
       "    .dataframe tbody tr th {\n",
       "        vertical-align: top;\n",
       "    }\n",
       "\n",
       "    .dataframe thead th {\n",
       "        text-align: right;\n",
       "    }\n",
       "</style>\n",
       "<table border=\"1\" class=\"dataframe\">\n",
       "  <thead>\n",
       "    <tr style=\"text-align: right;\">\n",
       "      <th></th>\n",
       "      <th>SEQN</th>\n",
       "      <th>CurrentSelfreportedHeightInches</th>\n",
       "    </tr>\n",
       "  </thead>\n",
       "  <tbody>\n",
       "    <tr>\n",
       "      <th>0</th>\n",
       "      <td>93705.0</td>\n",
       "      <td>160.02</td>\n",
       "    </tr>\n",
       "    <tr>\n",
       "      <th>1</th>\n",
       "      <td>93706.0</td>\n",
       "      <td>172.72</td>\n",
       "    </tr>\n",
       "    <tr>\n",
       "      <th>2</th>\n",
       "      <td>93708.0</td>\n",
       "      <td>152.40</td>\n",
       "    </tr>\n",
       "    <tr>\n",
       "      <th>3</th>\n",
       "      <td>93709.0</td>\n",
       "      <td>157.48</td>\n",
       "    </tr>\n",
       "    <tr>\n",
       "      <th>4</th>\n",
       "      <td>93711.0</td>\n",
       "      <td>175.26</td>\n",
       "    </tr>\n",
       "    <tr>\n",
       "      <th>...</th>\n",
       "      <td>...</td>\n",
       "      <td>...</td>\n",
       "    </tr>\n",
       "    <tr>\n",
       "      <th>5645</th>\n",
       "      <td>102948.0</td>\n",
       "      <td>160.02</td>\n",
       "    </tr>\n",
       "    <tr>\n",
       "      <th>5646</th>\n",
       "      <td>102949.0</td>\n",
       "      <td>182.88</td>\n",
       "    </tr>\n",
       "    <tr>\n",
       "      <th>5647</th>\n",
       "      <td>102953.0</td>\n",
       "      <td>165.10</td>\n",
       "    </tr>\n",
       "    <tr>\n",
       "      <th>5648</th>\n",
       "      <td>102954.0</td>\n",
       "      <td>167.64</td>\n",
       "    </tr>\n",
       "    <tr>\n",
       "      <th>5649</th>\n",
       "      <td>102956.0</td>\n",
       "      <td>175.26</td>\n",
       "    </tr>\n",
       "  </tbody>\n",
       "</table>\n",
       "<p>5650 rows × 2 columns</p>\n",
       "</div>"
      ],
      "text/plain": [
       "          SEQN  CurrentSelfreportedHeightInches\n",
       "0      93705.0                           160.02\n",
       "1      93706.0                           172.72\n",
       "2      93708.0                           152.40\n",
       "3      93709.0                           157.48\n",
       "4      93711.0                           175.26\n",
       "...        ...                              ...\n",
       "5645  102948.0                           160.02\n",
       "5646  102949.0                           182.88\n",
       "5647  102953.0                           165.10\n",
       "5648  102954.0                           167.64\n",
       "5649  102956.0                           175.26\n",
       "\n",
       "[5650 rows x 2 columns]"
      ]
     },
     "execution_count": 21,
     "metadata": {},
     "output_type": "execute_result"
    }
   ],
   "source": [
    "filtered_heights"
   ]
  },
  {
   "cell_type": "code",
   "execution_count": 18,
   "metadata": {},
   "outputs": [
    {
     "data": {
      "text/plain": [
       "pandas.core.frame.DataFrame"
      ]
     },
     "execution_count": 18,
     "metadata": {},
     "output_type": "execute_result"
    }
   ],
   "source": [
    "type(filtered_heights)"
   ]
  },
  {
   "cell_type": "code",
   "execution_count": 22,
   "metadata": {},
   "outputs": [
    {
     "data": {
      "text/plain": [
       "Index(['SEQN', 'CurrentSelfreportedHeightInches'], dtype='object')"
      ]
     },
     "execution_count": 22,
     "metadata": {},
     "output_type": "execute_result"
    }
   ],
   "source": [
    "filtered_heights.columns"
   ]
  },
  {
   "cell_type": "code",
   "execution_count": 23,
   "metadata": {},
   "outputs": [],
   "source": [
    "filtered_heights = filtered_heights.rename(columns={'CurrentSelfreportedHeightInches': 'HeightInCm'})"
   ]
  },
  {
   "cell_type": "code",
   "execution_count": null,
   "metadata": {},
   "outputs": [],
   "source": [
    "filtered_heights"
   ]
  },
  {
   "cell_type": "code",
   "execution_count": 24,
   "metadata": {},
   "outputs": [],
   "source": [
    "del filtered_heights['SEQN']"
   ]
  },
  {
   "cell_type": "code",
   "execution_count": 25,
   "metadata": {},
   "outputs": [
    {
     "data": {
      "text/html": [
       "<div>\n",
       "<style scoped>\n",
       "    .dataframe tbody tr th:only-of-type {\n",
       "        vertical-align: middle;\n",
       "    }\n",
       "\n",
       "    .dataframe tbody tr th {\n",
       "        vertical-align: top;\n",
       "    }\n",
       "\n",
       "    .dataframe thead th {\n",
       "        text-align: right;\n",
       "    }\n",
       "</style>\n",
       "<table border=\"1\" class=\"dataframe\">\n",
       "  <thead>\n",
       "    <tr style=\"text-align: right;\">\n",
       "      <th></th>\n",
       "      <th>HeightInCm</th>\n",
       "    </tr>\n",
       "  </thead>\n",
       "  <tbody>\n",
       "    <tr>\n",
       "      <th>0</th>\n",
       "      <td>160.02</td>\n",
       "    </tr>\n",
       "    <tr>\n",
       "      <th>1</th>\n",
       "      <td>172.72</td>\n",
       "    </tr>\n",
       "    <tr>\n",
       "      <th>2</th>\n",
       "      <td>152.40</td>\n",
       "    </tr>\n",
       "    <tr>\n",
       "      <th>3</th>\n",
       "      <td>157.48</td>\n",
       "    </tr>\n",
       "    <tr>\n",
       "      <th>4</th>\n",
       "      <td>175.26</td>\n",
       "    </tr>\n",
       "    <tr>\n",
       "      <th>...</th>\n",
       "      <td>...</td>\n",
       "    </tr>\n",
       "    <tr>\n",
       "      <th>5645</th>\n",
       "      <td>160.02</td>\n",
       "    </tr>\n",
       "    <tr>\n",
       "      <th>5646</th>\n",
       "      <td>182.88</td>\n",
       "    </tr>\n",
       "    <tr>\n",
       "      <th>5647</th>\n",
       "      <td>165.10</td>\n",
       "    </tr>\n",
       "    <tr>\n",
       "      <th>5648</th>\n",
       "      <td>167.64</td>\n",
       "    </tr>\n",
       "    <tr>\n",
       "      <th>5649</th>\n",
       "      <td>175.26</td>\n",
       "    </tr>\n",
       "  </tbody>\n",
       "</table>\n",
       "<p>5650 rows × 1 columns</p>\n",
       "</div>"
      ],
      "text/plain": [
       "      HeightInCm\n",
       "0         160.02\n",
       "1         172.72\n",
       "2         152.40\n",
       "3         157.48\n",
       "4         175.26\n",
       "...          ...\n",
       "5645      160.02\n",
       "5646      182.88\n",
       "5647      165.10\n",
       "5648      167.64\n",
       "5649      175.26\n",
       "\n",
       "[5650 rows x 1 columns]"
      ]
     },
     "execution_count": 25,
     "metadata": {},
     "output_type": "execute_result"
    }
   ],
   "source": [
    "filtered_heights"
   ]
  },
  {
   "cell_type": "code",
   "execution_count": null,
   "metadata": {},
   "outputs": [],
   "source": [
    "type(filtered_heights)"
   ]
  },
  {
   "cell_type": "markdown",
   "metadata": {},
   "source": [
    "#### Descriptive analysis"
   ]
  },
  {
   "cell_type": "markdown",
   "metadata": {},
   "source": [
    "### 1. Central tendency: mean, median, mode"
   ]
  },
  {
   "cell_type": "code",
   "execution_count": null,
   "metadata": {},
   "outputs": [],
   "source": [
    "filtered_heights.describe()"
   ]
  },
  {
   "cell_type": "code",
   "execution_count": null,
   "metadata": {},
   "outputs": [],
   "source": [
    "filtered_heights.mean()"
   ]
  },
  {
   "cell_type": "code",
   "execution_count": null,
   "metadata": {},
   "outputs": [],
   "source": [
    "filtered_heights.mode()"
   ]
  },
  {
   "cell_type": "code",
   "execution_count": null,
   "metadata": {},
   "outputs": [],
   "source": [
    "filtered_heights.median()"
   ]
  },
  {
   "cell_type": "code",
   "execution_count": null,
   "metadata": {},
   "outputs": [],
   "source": [
    "filtered_heights['HeightInCm'].value_counts()"
   ]
  },
  {
   "cell_type": "code",
   "execution_count": 23,
   "metadata": {},
   "outputs": [
    {
     "data": {
      "text/html": [
       "<div>\n",
       "<style scoped>\n",
       "    .dataframe tbody tr th:only-of-type {\n",
       "        vertical-align: middle;\n",
       "    }\n",
       "\n",
       "    .dataframe tbody tr th {\n",
       "        vertical-align: top;\n",
       "    }\n",
       "\n",
       "    .dataframe thead th {\n",
       "        text-align: right;\n",
       "    }\n",
       "</style>\n",
       "<table border=\"1\" class=\"dataframe\">\n",
       "  <thead>\n",
       "    <tr style=\"text-align: right;\">\n",
       "      <th></th>\n",
       "      <th>HeightInCm</th>\n",
       "    </tr>\n",
       "  </thead>\n",
       "  <tbody>\n",
       "    <tr>\n",
       "      <th>count</th>\n",
       "      <td>5650.000000</td>\n",
       "    </tr>\n",
       "    <tr>\n",
       "      <th>mean</th>\n",
       "      <td>168.289611</td>\n",
       "    </tr>\n",
       "    <tr>\n",
       "      <th>std</th>\n",
       "      <td>10.475220</td>\n",
       "    </tr>\n",
       "    <tr>\n",
       "      <th>min</th>\n",
       "      <td>134.620000</td>\n",
       "    </tr>\n",
       "    <tr>\n",
       "      <th>25%</th>\n",
       "      <td>160.020000</td>\n",
       "    </tr>\n",
       "    <tr>\n",
       "      <th>50%</th>\n",
       "      <td>167.640000</td>\n",
       "    </tr>\n",
       "    <tr>\n",
       "      <th>75%</th>\n",
       "      <td>175.260000</td>\n",
       "    </tr>\n",
       "    <tr>\n",
       "      <th>max</th>\n",
       "      <td>200.660000</td>\n",
       "    </tr>\n",
       "  </tbody>\n",
       "</table>\n",
       "</div>"
      ],
      "text/plain": [
       "        HeightInCm\n",
       "count  5650.000000\n",
       "mean    168.289611\n",
       "std      10.475220\n",
       "min     134.620000\n",
       "25%     160.020000\n",
       "50%     167.640000\n",
       "75%     175.260000\n",
       "max     200.660000"
      ]
     },
     "execution_count": 23,
     "metadata": {},
     "output_type": "execute_result"
    }
   ],
   "source": [
    "filtered_heights.describe()"
   ]
  },
  {
   "cell_type": "code",
   "execution_count": null,
   "metadata": {},
   "outputs": [],
   "source": [
    "## Viualizing data"
   ]
  },
  {
   "cell_type": "code",
   "execution_count": 22,
   "metadata": {},
   "outputs": [
    {
     "data": {
      "image/png": "[encoded data removed]",
      "text/plain": [
       "<Figure size 800x600 with 1 Axes>"
      ]
     },
     "metadata": {},
     "output_type": "display_data"
    }
   ],
   "source": [
    "# Plotting a histogram of human height data\n",
    "plt.figure(figsize=(8, 6))\n",
    "plt.hist(filtered_heights, bins=20, color='skyblue', edgecolor='black')\n",
    "plt.title('Distribution of Human Heights')\n",
    "plt.xlabel('Height (cm)')\n",
    "plt.ylabel('Frequency')\n",
    "plt.grid(True)\n",
    "plt.show()"
   ]
  },
  {
   "cell_type": "markdown",
   "metadata": {},
   "source": [
    "## Normal distribution\n",
    "\n",
    "A Gaussian distribution, also known as a normal distribution, is a continuous probability distribution that is symmetric around its mean. It is characterized by its bell-shaped curve and is widely used in statistics due to its mathematical tractability and its prevalence in natural phenomena.\n",
    "\n",
    "Key characteristics of a Gaussian distribution:\n",
    "\n",
    "1. **Symmetry:** The distribution is symmetric around its mean, with the mean, median, and mode all being the same value.\n",
    "\n",
    "2. **Bell-shaped curve:** The shape of the distribution forms a bell curve when plotted, with the majority of the data clustered around the mean and gradually decreasing as it moves away from the mean.\n",
    "\n",
    "3. **Defined by mean and standard deviation:** It is parameterized by two parameters: the mean (μ), which represents the center of the distribution, and the standard deviation (σ), which determines the spread or dispersion of the data points from the mean.\n",
    "\n",
    "4. **68-95-99.7 rule (Empirical Rule):** In a normal distribution, approximately 68% of the data falls within one standard deviation from the mean, about 95% within two standard deviations, and around 99.7% within three standard deviations.\n",
    "\n",
    "5. **Central Limit Theorem:** Many natural phenomena and measurements tend to follow a normal distribution due to the central limit theorem, which states that the distribution of sample means from a population will tend to be normal regardless of the original distribution of the population if the sample size is large enough.\n",
    "\n",
    "Real-life data that approximate a Gaussian distribution can be found in various natural and social phenomena. Here are some examples:\n",
    "\n",
    "### Human Characteristics:\n",
    "- **Height:** Human heights often approximate a Gaussian distribution within specific populations or age groups. For example, adult male or female heights within certain demographics can display a roughly normal distribution.\n",
    "- **Weight:** In populations with similar lifestyles and nutritional habits, weights of individuals might follow a Gaussian distribution.\n",
    "\n",
    "### Test Scores and Grades:\n",
    "- **Standardized Test Scores:** Scores from standardized tests like SAT, GRE, or IQ tests can exhibit a normal distribution, especially when the test-taking population is large and diverse.\n",
    "- **Grades in Large Classes:** In large classes or courses with diverse groups of students, final grades might tend to form a normal distribution.\n",
    "\n",
    "### Measurement Errors:\n",
    "- **Experimental Measurement Errors:** Errors in experimental measurements, especially when they involve many random factors, can follow a Gaussian distribution.\n",
    "\n",
    "### Natural Phenomena:\n",
    "- **Measurement of Natural Phenomena:** Observations of natural phenomena like rainfall, temperature variations, or environmental data, when large samples are taken over time or space, may exhibit a Gaussian distribution.\n",
    "\n",
    "### Financial Markets:\n",
    "- **Stock Prices:** Daily stock price changes can often be approximated by a normal distribution within certain periods.\n",
    "- **Returns on Investments:** In finance, returns on certain investments can display characteristics of a normal distribution.\n",
    "\n",
    "It's important to note that while many real-world phenomena approximate a Gaussian distribution, few things are perfectly normal. Deviations can occur due to various factors such as sample size, population characteristics, or specific constraints of the system being observed. Statistical methods often use the assumption of normality as an approximation rather than a precise description of the data."
   ]
  },
  {
   "cell_type": "markdown",
   "metadata": {},
   "source": [
    "\n",
    "\n",
    "\n"
   ]
  }
 ],
 "metadata": {
  "anaconda-cloud": {},
  "kernelspec": {
   "display_name": "Python 3",
   "language": "python",
   "name": "python3"
  },
  "language_info": {
   "codemirror_mode": {
    "name": "ipython",
    "version": 3
   },
   "file_extension": ".py",
   "mimetype": "text/x-python",
   "name": "python",
   "nbconvert_exporter": "python",
   "pygments_lexer": "ipython3",
   "version": "3.11.5"
  }
 },
 "nbformat": 4,
 "nbformat_minor": 1
}
