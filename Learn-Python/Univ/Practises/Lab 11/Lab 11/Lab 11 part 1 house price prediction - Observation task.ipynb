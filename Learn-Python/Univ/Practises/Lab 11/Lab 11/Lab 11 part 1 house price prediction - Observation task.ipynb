{
 "cells": [
  {
   "cell_type": "markdown",
   "id": "b00452d6",
   "metadata": {},
   "source": [
    "Implementing house price prediction in Python:  \n",
    "\n",
    "- 1. Prepare input data\n",
    "- 2. Initializing the linear regression model from Scikit-Learn.  \n",
    "- 3. Training model using the `fit()` method. This step allows the machine to find the optimal values for the weights and bias based on the training data.  \n",
    "- 4. Computing the mean squared error to evaluate how well the model’s predictions match the actual values.  \n"
   ]
  },
  {
   "cell_type": "code",
   "execution_count": 46,
   "id": "37a04a1f",
   "metadata": {},
   "outputs": [],
   "source": [
    "import pandas as pd\n",
    "from sklearn.linear_model import LinearRegression\n",
    "\n",
    "from sklearn.metrics import mean_squared_error\n",
    "import matplotlib.pyplot as plt"
   ]
  },
  {
   "cell_type": "code",
   "execution_count": 47,
   "id": "4a902876",
   "metadata": {},
   "outputs": [],
   "source": [
    "house_size = pd.DataFrame([1,2,3,4,5])\n",
    "house_price = pd.DataFrame([100,150,200,250,300])"
   ]
  },
  {
   "cell_type": "code",
   "execution_count": 48,
   "id": "842b9e7d",
   "metadata": {},
   "outputs": [],
   "source": [
    "X = house_size\n",
    "y = house_price"
   ]
  },
  {
   "cell_type": "code",
   "execution_count": 49,
   "id": "6394fdec",
   "metadata": {},
   "outputs": [],
   "source": [
    "model = LinearRegression()"
   ]
  },
  {
   "cell_type": "code",
   "execution_count": 50,
   "id": "1c780cb3",
   "metadata": {},
   "outputs": [
    {
     "data": {
      "text/html": [
       "<style>#sk-container-id-2 {color: black;}#sk-container-id-2 pre{padding: 0;}#sk-container-id-2 div.sk-toggleable {background-color: white;}#sk-container-id-2 label.sk-toggleable__label {cursor: pointer;display: block;width: 100%;margin-bottom: 0;padding: 0.3em;box-sizing: border-box;text-align: center;}#sk-container-id-2 label.sk-toggleable__label-arrow:before {content: \"▸\";float: left;margin-right: 0.25em;color: #696969;}#sk-container-id-2 label.sk-toggleable__label-arrow:hover:before {color: black;}#sk-container-id-2 div.sk-estimator:hover label.sk-toggleable__label-arrow:before {color: black;}#sk-container-id-2 div.sk-toggleable__content {max-height: 0;max-width: 0;overflow: hidden;text-align: left;background-color: #f0f8ff;}#sk-container-id-2 div.sk-toggleable__content pre {margin: 0.2em;color: black;border-radius: 0.25em;background-color: #f0f8ff;}#sk-container-id-2 input.sk-toggleable__control:checked~div.sk-toggleable__content {max-height: 200px;max-width: 100%;overflow: auto;}#sk-container-id-2 input.sk-toggleable__control:checked~label.sk-toggleable__label-arrow:before {content: \"▾\";}#sk-container-id-2 div.sk-estimator input.sk-toggleable__control:checked~label.sk-toggleable__label {background-color: #d4ebff;}#sk-container-id-2 div.sk-label input.sk-toggleable__control:checked~label.sk-toggleable__label {background-color: #d4ebff;}#sk-container-id-2 input.sk-hidden--visually {border: 0;clip: rect(1px 1px 1px 1px);clip: rect(1px, 1px, 1px, 1px);height: 1px;margin: -1px;overflow: hidden;padding: 0;position: absolute;width: 1px;}#sk-container-id-2 div.sk-estimator {font-family: monospace;background-color: #f0f8ff;border: 1px dotted black;border-radius: 0.25em;box-sizing: border-box;margin-bottom: 0.5em;}#sk-container-id-2 div.sk-estimator:hover {background-color: #d4ebff;}#sk-container-id-2 div.sk-parallel-item::after {content: \"\";width: 100%;border-bottom: 1px solid gray;flex-grow: 1;}#sk-container-id-2 div.sk-label:hover label.sk-toggleable__label {background-color: #d4ebff;}#sk-container-id-2 div.sk-serial::before {content: \"\";position: absolute;border-left: 1px solid gray;box-sizing: border-box;top: 0;bottom: 0;left: 50%;z-index: 0;}#sk-container-id-2 div.sk-serial {display: flex;flex-direction: column;align-items: center;background-color: white;padding-right: 0.2em;padding-left: 0.2em;position: relative;}#sk-container-id-2 div.sk-item {position: relative;z-index: 1;}#sk-container-id-2 div.sk-parallel {display: flex;align-items: stretch;justify-content: center;background-color: white;position: relative;}#sk-container-id-2 div.sk-item::before, #sk-container-id-2 div.sk-parallel-item::before {content: \"\";position: absolute;border-left: 1px solid gray;box-sizing: border-box;top: 0;bottom: 0;left: 50%;z-index: -1;}#sk-container-id-2 div.sk-parallel-item {display: flex;flex-direction: column;z-index: 1;position: relative;background-color: white;}#sk-container-id-2 div.sk-parallel-item:first-child::after {align-self: flex-end;width: 50%;}#sk-container-id-2 div.sk-parallel-item:last-child::after {align-self: flex-start;width: 50%;}#sk-container-id-2 div.sk-parallel-item:only-child::after {width: 0;}#sk-container-id-2 div.sk-dashed-wrapped {border: 1px dashed gray;margin: 0 0.4em 0.5em 0.4em;box-sizing: border-box;padding-bottom: 0.4em;background-color: white;}#sk-container-id-2 div.sk-label label {font-family: monospace;font-weight: bold;display: inline-block;line-height: 1.2em;}#sk-container-id-2 div.sk-label-container {text-align: center;}#sk-container-id-2 div.sk-container {/* jupyter's `normalize.less` sets `[hidden] { display: none; }` but bootstrap.min.css set `[hidden] { display: none !important; }` so we also need the `!important` here to be able to override the default hidden behavior on the sphinx rendered scikit-learn.org. See: https://github.com/scikit-learn/scikit-learn/issues/21755 */display: inline-block !important;position: relative;}#sk-container-id-2 div.sk-text-repr-fallback {display: none;}</style><div id=\"sk-container-id-2\" class=\"sk-top-container\"><div class=\"sk-text-repr-fallback\"><pre>LinearRegression()</pre><b>In a Jupyter environment, please rerun this cell to show the HTML representation or trust the notebook. <br />On GitHub, the HTML representation is unable to render, please try loading this page with nbviewer.org.</b></div><div class=\"sk-container\" hidden><div class=\"sk-item\"><div class=\"sk-estimator sk-toggleable\"><input class=\"sk-toggleable__control sk-hidden--visually\" id=\"sk-estimator-id-2\" type=\"checkbox\" checked><label for=\"sk-estimator-id-2\" class=\"sk-toggleable__label sk-toggleable__label-arrow\">LinearRegression</label><div class=\"sk-toggleable__content\"><pre>LinearRegression()</pre></div></div></div></div></div>"
      ],
      "text/plain": [
       "LinearRegression()"
      ]
     },
     "execution_count": 50,
     "metadata": {},
     "output_type": "execute_result"
    }
   ],
   "source": [
    "model.fit(X, y)"
   ]
  },
  {
   "cell_type": "code",
   "execution_count": 51,
   "id": "87c378c2",
   "metadata": {},
   "outputs": [
    {
     "name": "stdout",
     "output_type": "stream",
     "text": [
      "weight: [50.]\n",
      "bias: [50.]\n"
     ]
    }
   ],
   "source": [
    "weight = model.coef_[0]\n",
    "bias = model.intercept_\n",
    "print(f\"weight: {weight}\")\n",
    "print(f\"bias: {bias}\")"
   ]
  },
  {
   "cell_type": "code",
   "execution_count": 52,
   "id": "eafc2e5e",
   "metadata": {},
   "outputs": [],
   "source": [
    "# create another data to test this training\n",
    "X1 = pd.DataFrame([7, 8, 9])\n",
    "y1 = pd.DataFrame([350, 400, 450])"
   ]
  },
  {
   "cell_type": "code",
   "execution_count": 53,
   "id": "da5e8cea",
   "metadata": {},
   "outputs": [
    {
     "data": {
      "text/plain": [
       "array([[400.],\n",
       "       [450.],\n",
       "       [500.]])"
      ]
     },
     "execution_count": 53,
     "metadata": {},
     "output_type": "execute_result"
    }
   ],
   "source": [
    "y_pred = model.predict(X1)\n",
    "y_pred"
   ]
  },
  {
   "cell_type": "code",
   "execution_count": 54,
   "id": "a4e7655b",
   "metadata": {},
   "outputs": [
    {
     "data": {
      "text/plain": [
       "2500.000000000006"
      ]
     },
     "execution_count": 54,
     "metadata": {},
     "output_type": "execute_result"
    }
   ],
   "source": [
    "mse = mean_squared_error(y_pred, y1)\n",
    "mse"
   ]
  },
  {
   "cell_type": "code",
   "execution_count": 55,
   "id": "60e69d31",
   "metadata": {},
   "outputs": [
    {
     "data": {
      "text/plain": [
       "array([[100.],\n",
       "       [150.],\n",
       "       [200.],\n",
       "       [250.],\n",
       "       [300.]])"
      ]
     },
     "execution_count": 55,
     "metadata": {},
     "output_type": "execute_result"
    }
   ],
   "source": [
    "y_pred = model.predict(X)\n",
    "y_pred"
   ]
  },
  {
   "cell_type": "code",
   "execution_count": 56,
   "id": "6480924b",
   "metadata": {},
   "outputs": [
    {
     "data": {
      "text/plain": [
       "5.250658185151055e-28"
      ]
     },
     "execution_count": 56,
     "metadata": {},
     "output_type": "execute_result"
    }
   ],
   "source": [
    "mse = mean_squared_error(y_pred, y)\n",
    "mse"
   ]
  },
  {
   "cell_type": "code",
   "execution_count": null,
   "id": "7af7d804",
   "metadata": {},
   "outputs": [],
   "source": []
  },
  {
   "cell_type": "markdown",
   "id": "dae9dd8b",
   "metadata": {},
   "source": [
    "### TASK 1: Exploring Model Parameters\n",
    "1. Modify the value of `model.coef_[0]` and `model.intercept_` in a simple linear regression model. \n",
    "2. Observe and describe how these changes affect the position and slope of the line on a graph. \n",
    "3. Based on your observations, explain the role of `model.coef_[0]` and `model.intercept_` in defining the regression line. \n"
   ]
  },
  {
   "cell_type": "code",
   "execution_count": 77,
   "id": "2be0c192",
   "metadata": {},
   "outputs": [
    {
     "name": "stdout",
     "output_type": "stream",
     "text": [
      "Best weigth: [50.]\n",
      "Best bias: [50.]\n"
     ]
    }
   ],
   "source": [
    "model.coef_[0] = 50 \n",
    "model.intercept_ = 50\n",
    "print(f\"Best weigth: {weight}\")\n",
    "print(f\"Best bias: {bias}\")"
   ]
  },
  {
   "cell_type": "code",
   "execution_count": 78,
   "id": "460f7a92",
   "metadata": {},
   "outputs": [
    {
     "data": {
      "image/png": "[encoded data removed]",
      "text/plain": [
       "<Figure size 640x480 with 1 Axes>"
      ]
     },
     "metadata": {},
     "output_type": "display_data"
    }
   ],
   "source": [
    "# Visualizing the linear regression line\n",
    "\n",
    "plt.scatter(X, y, color='blue', label='Training data')\n",
    "plt.plot(X, model.predict(X), color='red', label='Linear regression')\n",
    "plt.xlabel('House Size (x)')\n",
    "plt.ylabel('Price (y)')\n",
    "plt.title('Simple Linear Regression Example')\n",
    "plt.legend()\n",
    "plt.show()"
   ]
  },
  {
   "cell_type": "markdown",
   "id": "4111ae01",
   "metadata": {},
   "source": [
    "The aim is to find a line (or hyperplane in higher dimensions) that best represents the relationship between the input variables and the target variable by minimizing the overall difference between the predicted values and the true values."
   ]
  },
  {
   "cell_type": "code",
   "execution_count": null,
   "id": "edd1e1e1",
   "metadata": {},
   "outputs": [],
   "source": []
  }
 ],
 "metadata": {
  "kernelspec": {
   "display_name": "Python 3 (ipykernel)",
   "language": "python",
   "name": "python3"
  },
  "language_info": {
   "codemirror_mode": {
    "name": "ipython",
    "version": 3
   },
   "file_extension": ".py",
   "mimetype": "text/x-python",
   "name": "python",
   "nbconvert_exporter": "python",
   "pygments_lexer": "ipython3",
   "version": "3.11.4"
  }
 },
 "nbformat": 4,
 "nbformat_minor": 5
}
