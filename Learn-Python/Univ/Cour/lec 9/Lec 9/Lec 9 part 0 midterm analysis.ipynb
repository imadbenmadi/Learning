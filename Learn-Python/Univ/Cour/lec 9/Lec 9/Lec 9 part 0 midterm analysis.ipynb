{
 "cells": [
  {
   "cell_type": "code",
   "execution_count": 15,
   "id": "4ebb3a33",
   "metadata": {},
   "outputs": [],
   "source": [
    "import pandas as pd"
   ]
  },
  {
   "cell_type": "code",
   "execution_count": 10,
   "id": "4ebc5f22",
   "metadata": {},
   "outputs": [
    {
     "name": "stdout",
     "output_type": "stream",
     "text": [
      " Volume in drive C is Windows\n",
      " Volume Serial Number is F871-D3DB\n",
      "\n",
      " Directory of c:\\Users\\imadb\\OneDrive\\Bureau\\Python\\Cours\\lec 9\\Lec 9\n",
      "\n",
      "12/07/2024  04:57 PM    <DIR>          .\n",
      "12/07/2024  04:56 PM    <DIR>          ..\n",
      "12/07/2024  05:18 PM           134,533 Lec 9 part 0 midterm analysis.ipynb\n",
      "12/07/2024  04:56 PM            70,082 Lec 9 part 1 Descriptive Statistics in Python.ipynb\n",
      "12/07/2024  04:56 PM             4,876 Lec 9 part 2 - Correlation Analysis in Python.ipynb\n",
      "12/07/2024  04:56 PM             5,409 midterm_result.xlsx\n",
      "               4 File(s)        214,900 bytes\n",
      "               2 Dir(s)  119,032,864,768 bytes free\n"
     ]
    }
   ],
   "source": [
    "ls"
   ]
  },
  {
   "cell_type": "code",
   "execution_count": 16,
   "id": "f4f643c6",
   "metadata": {},
   "outputs": [],
   "source": [
    "df = pd.read_excel(r\"c:\\Users\\imadb\\OneDrive\\Bureau\\Python\\Cours\\lec 9\\Lec 9\\midterm_result.xlsx\")\n"
   ]
  },
  {
   "cell_type": "code",
   "execution_count": 17,
   "id": "81aeb94f",
   "metadata": {},
   "outputs": [
    {
     "name": "stdout",
     "output_type": "stream",
     "text": [
      "<class 'pandas.core.frame.DataFrame'>\n",
      "RangeIndex: 44 entries, 0 to 43\n",
      "Data columns (total 2 columns):\n",
      " #   Column    Non-Null Count  Dtype  \n",
      "---  ------    --------------  -----  \n",
      " 0   test      44 non-null     float64\n",
      " 1   practice  44 non-null     float64\n",
      "dtypes: float64(2)\n",
      "memory usage: 836.0 bytes\n"
     ]
    }
   ],
   "source": [
    "df.info()"
   ]
  },
  {
   "cell_type": "code",
   "execution_count": 18,
   "id": "13e0db89",
   "metadata": {},
   "outputs": [
    {
     "data": {
      "text/html": [
       "<div>\n",
       "<style scoped>\n",
       "    .dataframe tbody tr th:only-of-type {\n",
       "        vertical-align: middle;\n",
       "    }\n",
       "\n",
       "    .dataframe tbody tr th {\n",
       "        vertical-align: top;\n",
       "    }\n",
       "\n",
       "    .dataframe thead th {\n",
       "        text-align: right;\n",
       "    }\n",
       "</style>\n",
       "<table border=\"1\" class=\"dataframe\">\n",
       "  <thead>\n",
       "    <tr style=\"text-align: right;\">\n",
       "      <th></th>\n",
       "      <th>test</th>\n",
       "      <th>practice</th>\n",
       "    </tr>\n",
       "  </thead>\n",
       "  <tbody>\n",
       "    <tr>\n",
       "      <th>0</th>\n",
       "      <td>5.5</td>\n",
       "      <td>0.5</td>\n",
       "    </tr>\n",
       "    <tr>\n",
       "      <th>1</th>\n",
       "      <td>16.5</td>\n",
       "      <td>2.0</td>\n",
       "    </tr>\n",
       "    <tr>\n",
       "      <th>2</th>\n",
       "      <td>9.0</td>\n",
       "      <td>3.0</td>\n",
       "    </tr>\n",
       "    <tr>\n",
       "      <th>3</th>\n",
       "      <td>9.5</td>\n",
       "      <td>6.0</td>\n",
       "    </tr>\n",
       "    <tr>\n",
       "      <th>4</th>\n",
       "      <td>3.0</td>\n",
       "      <td>1.0</td>\n",
       "    </tr>\n",
       "  </tbody>\n",
       "</table>\n",
       "</div>"
      ],
      "text/plain": [
       "   test  practice\n",
       "0   5.5       0.5\n",
       "1  16.5       2.0\n",
       "2   9.0       3.0\n",
       "3   9.5       6.0\n",
       "4   3.0       1.0"
      ]
     },
     "execution_count": 18,
     "metadata": {},
     "output_type": "execute_result"
    }
   ],
   "source": [
    "df.head()"
   ]
  },
  {
   "cell_type": "code",
   "execution_count": null,
   "id": "0efa23bf",
   "metadata": {},
   "outputs": [],
   "source": [
    "### Mode - most frequent values"
   ]
  },
  {
   "cell_type": "code",
   "execution_count": 5,
   "id": "d68f775b",
   "metadata": {},
   "outputs": [
    {
     "data": {
      "text/plain": [
       "0    8.0\n",
       "1    9.0\n",
       "Name: test, dtype: float64"
      ]
     },
     "execution_count": 5,
     "metadata": {},
     "output_type": "execute_result"
    }
   ],
   "source": [
    "df['test'].mode()"
   ]
  },
  {
   "cell_type": "code",
   "execution_count": 6,
   "id": "a4a0ef38",
   "metadata": {},
   "outputs": [
    {
     "data": {
      "text/plain": [
       "5"
      ]
     },
     "execution_count": 6,
     "metadata": {},
     "output_type": "execute_result"
    }
   ],
   "source": [
    "len(df[df['test']==8])"
   ]
  },
  {
   "cell_type": "code",
   "execution_count": 7,
   "id": "93cd64ac",
   "metadata": {},
   "outputs": [
    {
     "data": {
      "text/plain": [
       "5"
      ]
     },
     "execution_count": 7,
     "metadata": {},
     "output_type": "execute_result"
    }
   ],
   "source": [
    "len(df[df['test']==9])"
   ]
  },
  {
   "cell_type": "code",
   "execution_count": 8,
   "id": "97b5da78",
   "metadata": {},
   "outputs": [
    {
     "data": {
      "text/plain": [
       "0    3.0\n",
       "Name: practice, dtype: float64"
      ]
     },
     "execution_count": 8,
     "metadata": {},
     "output_type": "execute_result"
    }
   ],
   "source": [
    "df['practice'].mode()"
   ]
  },
  {
   "cell_type": "code",
   "execution_count": 9,
   "id": "05c0cbc7",
   "metadata": {},
   "outputs": [
    {
     "data": {
      "text/plain": [
       "7"
      ]
     },
     "execution_count": 9,
     "metadata": {},
     "output_type": "execute_result"
    }
   ],
   "source": [
    "len(df[df['practice']==3])"
   ]
  },
  {
   "cell_type": "code",
   "execution_count": null,
   "id": "ccf7ed09",
   "metadata": {},
   "outputs": [],
   "source": [
    "# mean "
   ]
  },
  {
   "cell_type": "code",
   "execution_count": 10,
   "id": "04195ac5",
   "metadata": {},
   "outputs": [
    {
     "name": "stdout",
     "output_type": "stream",
     "text": [
      "Test average: 9.193181818181818\n",
      " Practice average: 3.1045454545454545\n"
     ]
    }
   ],
   "source": [
    "print(f'Test average: {df[\"test\"].mean()}')\n",
    "print(f' Practice average: {df[\"practice\"].mean()}')"
   ]
  },
  {
   "cell_type": "code",
   "execution_count": 11,
   "id": "61617757",
   "metadata": {},
   "outputs": [
    {
     "name": "stdout",
     "output_type": "stream",
     "text": [
      "Test median: 9.0\n",
      " Practice median: 3.0\n"
     ]
    }
   ],
   "source": [
    "# median\n",
    "print(f'Test median: {df[\"test\"].median()}')\n",
    "print(f' Practice median: {df[\"practice\"].median()}')"
   ]
  },
  {
   "cell_type": "code",
   "execution_count": 12,
   "id": "a5185e7a",
   "metadata": {},
   "outputs": [
    {
     "name": "stdout",
     "output_type": "stream",
     "text": [
      "Test std: 3.5621000943898853\n",
      " Practice std: 1.831755359091452\n"
     ]
    }
   ],
   "source": [
    "# std\n",
    "print(f'Test std: {df[\"test\"].std()}')\n",
    "print(f' Practice std: {df[\"practice\"].std()}')"
   ]
  },
  {
   "cell_type": "code",
   "execution_count": 13,
   "id": "1417b5d8",
   "metadata": {},
   "outputs": [
    {
     "data": {
      "text/html": [
       "<div>\n",
       "<style scoped>\n",
       "    .dataframe tbody tr th:only-of-type {\n",
       "        vertical-align: middle;\n",
       "    }\n",
       "\n",
       "    .dataframe tbody tr th {\n",
       "        vertical-align: top;\n",
       "    }\n",
       "\n",
       "    .dataframe thead th {\n",
       "        text-align: right;\n",
       "    }\n",
       "</style>\n",
       "<table border=\"1\" class=\"dataframe\">\n",
       "  <thead>\n",
       "    <tr style=\"text-align: right;\">\n",
       "      <th></th>\n",
       "      <th>test</th>\n",
       "      <th>practice</th>\n",
       "    </tr>\n",
       "  </thead>\n",
       "  <tbody>\n",
       "    <tr>\n",
       "      <th>count</th>\n",
       "      <td>44.000000</td>\n",
       "      <td>44.000000</td>\n",
       "    </tr>\n",
       "    <tr>\n",
       "      <th>mean</th>\n",
       "      <td>9.193182</td>\n",
       "      <td>3.104545</td>\n",
       "    </tr>\n",
       "    <tr>\n",
       "      <th>std</th>\n",
       "      <td>3.562100</td>\n",
       "      <td>1.831755</td>\n",
       "    </tr>\n",
       "    <tr>\n",
       "      <th>min</th>\n",
       "      <td>3.000000</td>\n",
       "      <td>0.000000</td>\n",
       "    </tr>\n",
       "    <tr>\n",
       "      <th>25%</th>\n",
       "      <td>7.000000</td>\n",
       "      <td>2.000000</td>\n",
       "    </tr>\n",
       "    <tr>\n",
       "      <th>50%</th>\n",
       "      <td>9.000000</td>\n",
       "      <td>3.000000</td>\n",
       "    </tr>\n",
       "    <tr>\n",
       "      <th>75%</th>\n",
       "      <td>11.000000</td>\n",
       "      <td>4.500000</td>\n",
       "    </tr>\n",
       "    <tr>\n",
       "      <th>max</th>\n",
       "      <td>16.500000</td>\n",
       "      <td>6.000000</td>\n",
       "    </tr>\n",
       "  </tbody>\n",
       "</table>\n",
       "</div>"
      ],
      "text/plain": [
       "            test   practice\n",
       "count  44.000000  44.000000\n",
       "mean    9.193182   3.104545\n",
       "std     3.562100   1.831755\n",
       "min     3.000000   0.000000\n",
       "25%     7.000000   2.000000\n",
       "50%     9.000000   3.000000\n",
       "75%    11.000000   4.500000\n",
       "max    16.500000   6.000000"
      ]
     },
     "execution_count": 13,
     "metadata": {},
     "output_type": "execute_result"
    }
   ],
   "source": [
    "df.describe()"
   ]
  },
  {
   "cell_type": "markdown",
   "id": "1adb265c",
   "metadata": {},
   "source": [
    "\n",
    "### Test Scores\n",
    "- **Mean**: 9.19\n",
    "- **Standard Deviation**: 3.56, indicating moderate variation in scores.\n",
    "- **Minimum**: 3.0, **Maximum**: 16.5\n",
    "- **Quartiles**:\n",
    "  - 25th percentile: 7.0\n",
    "  - 50th percentile (Median): 9.0\n",
    "  - 75th percentile: 11.0\n",
    "\n",
    "### Practice Scores\n",
    "- **Mean**: 3.10\n",
    "- **Standard Deviation**: 1.83, suggesting moderate dispersion.\n",
    "- **Minimum**: 0.0, **Maximum**: 6.0\n",
    "- **Quartiles**:\n",
    "  - 25th percentile: 2.0\n",
    "  - 50th percentile (Median): 3.0\n",
    "  - 75th percentile: 4.5\n",
    "\n",
    "### Insights\n",
    "- **Test Scores**: Generally range from 3 to 16.5, with most scores around 7 to 11, showing a reasonable spread around the mean.\n",
    "- **Practice Scores**: Range from 0 to 6, with most scores clustered between 2 and 4.5. The lower mean suggests that practice scores are typically less than the test scores.\n",
    "\n"
   ]
  },
  {
   "cell_type": "markdown",
   "id": "89226b31",
   "metadata": {},
   "source": [
    "A standard deviation of 3.56 indicates the extent to which individual scores in the dataset vary from the average score (mean). In practical terms:\n",
    "\n",
    "- **Moderate Variation**: A standard deviation of 3.56 (relative to the mean score of 9.19) suggests that most scores are spread around the average within a few points. It shows that while scores do vary, they tend to cluster reasonably close to the mean.\n",
    "\n",
    "- **Range and Spread**: Given the dataset's minimum (3.0) and maximum (16.5) values, a standard deviation of 3.56 indicates a moderate spread of scores — not extremely tight but also not very widely scattered. Most scores are likely to fall within a range of roughly 5.6 to 12.8 points from the mean (about one standard deviation away from the mean in either direction).\n",
    "\n",
    "In an exam context, this could mean:\n",
    "- **Score Consistency**: Most students' scores don't vary drastically from the average score, which might indicate a similar level of understanding or preparation among students.\n",
    "- **Outliers**: If any scores are far outside this range, they could be potential outliers or students with unusually high or low performance compared to their peers.\n",
    "\n"
   ]
  },
  {
   "cell_type": "markdown",
   "id": "e32d0724",
   "metadata": {},
   "source": [
    "A standard deviation of 1.83 indicates the extent of variation or spread in the data points relative to their mean. Here’s what it means in this context:\n",
    "\n",
    "- **Moderate Dispersion**: A standard deviation of 1.83, relative to the average (mean) of the practice scores (3.10), suggests that most scores are reasonably close to the mean. However, there is still some spread, meaning scores are not clustered extremely tightly around the mean but also aren’t spread very widely.\n",
    "\n",
    "- **Score Spread**: With a mean of 3.10 and a standard deviation of 1.83, we can estimate that most scores are within roughly 1.83 points of the mean. This means most scores likely fall between about 1.27 and 4.93 (mean ± 1 standard deviation).\n",
    "\n",
    "In an academic context, this **moderate dispersion** suggests:\n",
    "- **Relatively Consistent Performance**: The practice scores show some variability but generally reflect a similar level of performance.\n",
    "- **Typical Variability**: Students might have small differences in practice scores, reflecting minor differences in understanding or preparation.\n",
    "\n"
   ]
  },
  {
   "cell_type": "code",
   "execution_count": null,
   "id": "832a954e",
   "metadata": {},
   "outputs": [],
   "source": [
    "midterm = df['test']"
   ]
  },
  {
   "cell_type": "code",
   "execution_count": null,
   "id": "530e62de",
   "metadata": {},
   "outputs": [],
   "source": [
    "type(midterm)"
   ]
  },
  {
   "cell_type": "code",
   "execution_count": null,
   "id": "c34471de",
   "metadata": {},
   "outputs": [],
   "source": [
    "practice = df['practice']"
   ]
  },
  {
   "cell_type": "code",
   "execution_count": null,
   "id": "52ca3f7d",
   "metadata": {},
   "outputs": [
    {
     "data": {
      "image/png": "[encoded data removed]",
      "text/plain": [
       "<Figure size 1500x800 with 4 Axes>"
      ]
     },
     "metadata": {},
     "output_type": "display_data"
    }
   ],
   "source": [
    "import matplotlib.pyplot as plt\n",
    "import seaborn as sns\n",
    "\n",
    "# Setting the style for clarity and aesthetics\n",
    "sns.set(style=\"whitegrid\")\n",
    "\n",
    "# Figure setup\n",
    "plt.figure(figsize=(15, 8))\n",
    "\n",
    "# Histogram for Test Scores\n",
    "plt.subplot(2, 2, 1)\n",
    "plt.hist(df['test'], bins=10, color='skyblue', edgecolor='black', alpha=0.7)\n",
    "plt.title('Distribution of Test Scores', fontsize=14)\n",
    "plt.xlabel('Test Score', fontsize=12)\n",
    "plt.ylabel('Frequency', fontsize=12)\n",
    "plt.axvline(df['test'].mean(), color='red', linestyle='dashed', linewidth=1, label=f'Mean: {df[\"test\"].mean():.2f}')\n",
    "plt.legend()\n",
    "\n",
    "# Histogram for Practice Scores\n",
    "plt.subplot(2, 2, 2)\n",
    "plt.hist(df['practice'], bins=10, color='salmon', edgecolor='black', alpha=0.7)\n",
    "plt.title('Distribution of Practice Scores', fontsize=14)\n",
    "plt.xlabel('Practice Score', fontsize=12)\n",
    "plt.ylabel('Frequency', fontsize=12)\n",
    "plt.axvline(df['practice'].mean(), color='red', linestyle='dashed', linewidth=1, label=f'Mean: {df[\"practice\"].mean():.2f}')\n",
    "plt.legend()\n",
    "\n",
    "\n",
    "# Scatter Plot for Test vs Practice Scores\n",
    "plt.subplot(2, 2, 3)\n",
    "plt.scatter(df['test'], df['practice'], color='purple', alpha=0.6)\n",
    "plt.title('Test Scores vs Practice Scores', fontsize=14)\n",
    "plt.xlabel('Test Score', fontsize=12)\n",
    "plt.ylabel('Practice Score', fontsize=12)\n",
    "plt.grid(True)\n",
    "\n",
    "# Boxplot for Test and Practice Scores\n",
    "plt.subplot(2, 2, 4)\n",
    "sns.boxplot(data=df, palette=['skyblue', 'salmon'])\n",
    "plt.title('Boxplot of Test and Practice Scores', fontsize=14)\n",
    "plt.ylabel('Score', fontsize=12)\n",
    "\n",
    "\n",
    "plt.tight_layout()\n",
    "plt.show()\n"
   ]
  },
  {
   "cell_type": "code",
   "execution_count": null,
   "id": "21faa4a4",
   "metadata": {},
   "outputs": [],
   "source": [
    "## Pearson correlation"
   ]
  },
  {
   "cell_type": "code",
   "execution_count": 21,
   "id": "02d214fd",
   "metadata": {},
   "outputs": [
    {
     "name": "stdout",
     "output_type": "stream",
     "text": [
      "Pearson correlation coefficient: 0.5808213940305614\n"
     ]
    }
   ],
   "source": [
    "pearson_corr = df['test'].corr(df['practice'])\n",
    "print(f\"Pearson correlation coefficient: {pearson_corr}\")\n"
   ]
  },
  {
   "cell_type": "code",
   "execution_count": null,
   "id": "1bd733eb",
   "metadata": {},
   "outputs": [],
   "source": [
    "# classroom example"
   ]
  },
  {
   "cell_type": "code",
   "execution_count": 25,
   "id": "40d9427d",
   "metadata": {},
   "outputs": [
    {
     "name": "stdout",
     "output_type": "stream",
     "text": [
      "    0\n",
      "0  16\n",
      "1   8\n",
      "2   9\n",
      "3  10\n",
      "4   3\n",
      "5   5\n",
      "6   6\n",
      "7   4\n",
      "8   8\n",
      "9   9\n"
     ]
    }
   ],
   "source": [
    "lst = [16, 8, 9, 10, 3, 5,6,4, 8, 9]\n",
    "df_sample = pd.DataFrame(lst)\n",
    "print(df_sample)"
   ]
  },
  {
   "cell_type": "code",
   "execution_count": null,
   "id": "aed4e0f2",
   "metadata": {},
   "outputs": [],
   "source": [
    "df_sample.mean()"
   ]
  },
  {
   "cell_type": "code",
   "execution_count": null,
   "id": "763e6b09",
   "metadata": {},
   "outputs": [],
   "source": [
    "df_sample.mode()"
   ]
  },
  {
   "cell_type": "code",
   "execution_count": null,
   "id": "95dee160",
   "metadata": {},
   "outputs": [],
   "source": [
    "df_sample.median()"
   ]
  },
  {
   "cell_type": "code",
   "execution_count": null,
   "id": "37159dd5",
   "metadata": {},
   "outputs": [],
   "source": [
    "df_sample.std()"
   ]
  },
  {
   "cell_type": "code",
   "execution_count": null,
   "id": "f485d7fb",
   "metadata": {},
   "outputs": [],
   "source": [
    "df_sample.describe()"
   ]
  }
 ],
 "metadata": {
  "kernelspec": {
   "display_name": "Python 3",
   "language": "python",
   "name": "python3"
  },
  "language_info": {
   "codemirror_mode": {
    "name": "ipython",
    "version": 3
   },
   "file_extension": ".py",
   "mimetype": "text/x-python",
   "name": "python",
   "nbconvert_exporter": "python",
   "pygments_lexer": "ipython3",
   "version": "3.11.5"
  }
 },
 "nbformat": 4,
 "nbformat_minor": 5
}
