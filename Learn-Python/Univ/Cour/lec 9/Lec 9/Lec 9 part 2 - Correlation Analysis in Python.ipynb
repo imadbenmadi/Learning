{
 "cells": [
  {
   "cell_type": "markdown",
   "metadata": {},
   "source": [
    "### Correlation Analysis in Python - Pearson \n"
   ]
  },
  {
   "cell_type": "markdown",
   "metadata": {},
   "source": [
    "#### **What is Correlation Analysis?**\n",
    "- **Correlation analysis** is a statistical method to evaluate the **strength and direction** of the relationship between two quantitative variables.\n",
    "- Measures **how changes in one variable are associated** with changes in another.\n",
    "\n",
    "---\n",
    "\n",
    "#### **Key Concept: Correlation Coefficient (\"r\")**\n",
    "- **Range:** -1 to +1\n",
    "  - **Positive Correlation** (r → +1): Both variables increase together.\n",
    "  - **Negative Correlation** (r → -1): One variable increases, the other decreases.\n",
    "  - **No Correlation** (r ≈ 0): Weak or no linear relationship.\n",
    "\n",
    "---\n",
    "\n",
    "#### **Pearson Correlation Coefficient**\n",
    "- Most common method for **linear relationships**.\n",
    "- Best for **continuous data** without significant outliers.\n",
    "  \n",
    "---\n",
    "\n",
    "#### **Other Correlation Coefficients**\n",
    "- **Spearman’s Rank Correlation:** For ordinal data or non-linear relationships.\n",
    "- **Kendall’s Tau:** Used for smaller datasets or to handle ties in rankings.\n",
    "- **Point-Biserial Correlation:** For one continuous and one binary variable.\n",
    "\n",
    "---\n",
    "\n",
    "#### **Applications Across Fields**\n",
    "- Used in **economics**, **social sciences**, **finance**, and more.\n",
    "- **Helps identify relationships** but does not imply causation.\n",
    "\n",
    "---\n",
    "\n",
    "#### **Important Reminder**\n",
    "- **Correlation ≠ Causation**: A correlation does not mean one variable causes changes in the other.\n",
    "\n",
    "---\n",
    "\n",
    "#### **Conclusion**\n",
    "- Correlation analysis is a powerful tool for **understanding relationships** but should be interpreted carefully.\n",
    "\n"
   ]
  },
  {
   "cell_type": "markdown",
   "metadata": {},
   "source": [
    "![Title](Images/correlation.png)\n"
   ]
  },
  {
   "cell_type": "markdown",
   "metadata": {},
   "source": [
    "## Example "
   ]
  },
  {
   "cell_type": "code",
   "execution_count": 2,
   "metadata": {},
   "outputs": [
    {
     "name": "stdout",
     "output_type": "stream",
     "text": [
      "Mean of variable1: 3.0\n",
      "Pearson correlation coefficient: -0.9999999999999999\n"
     ]
    }
   ],
   "source": [
    "import pandas as pd\n",
    "\n",
    "# Sample data\n",
    "data = {\n",
    "    'Variable_1': [1, 2, 3, 4, 5],\n",
    "    'Variable_2': [5, 4, 3, 2, 1]\n",
    "}\n",
    "\n",
    "# Creating a DataFrame from the sample data\n",
    "df = pd.DataFrame(data)\n",
    "\n",
    "# Calculating mean of  Variable_1.\n",
    "mean_of_variable1 = df['Variable_1'].mean()\n",
    "print(f'Mean of variable1: {mean_of_variable1}')\n",
    "\n",
    "# Calculating Pearson correlation coefficient between Variable_1 and Variable_2\n",
    "pearson_corr = df['Variable_1'].corr(df['Variable_2'])\n",
    "\n",
    "print(f\"Pearson correlation coefficient: {pearson_corr}\")\n"
   ]
  },
  {
   "cell_type": "code",
   "execution_count": null,
   "metadata": {},
   "outputs": [],
   "source": []
  },
  {
   "cell_type": "markdown",
   "metadata": {},
   "source": [
    "**Guideline for interpreting result**\n",
    "\n",
    "- **0.00 - 0.19**: **Very Weak Correlation**  \n",
    "  - Little to no association between variables.\n",
    "- **0.20 - 0.39**: **Weak Correlation**  \n",
    "  - Low association; one variable only slightly follows the trend of the other.\n",
    "- **0.40 - 0.59**: **Moderate Correlation**  \n",
    "  - Some association; as one variable changes, the other has a moderate tendency to follow.\n",
    "- **0.60 - 0.79**: **Strong Correlation**  \n",
    "  - Strong association; as one variable changes, the other tends to follow significantly.\n",
    "- **0.80 - 1.00**: **Very Strong Correlation**  \n",
    "  - Very high association; changes in one variable closely relate to changes in the other.\n",
    "\n",
    "This range provides a useful guideline, but remember that correlation strength also depends on **context, sample size, and domain**, so it's always good to interpret it alongside these factors."
   ]
  }
 ],
 "metadata": {
  "anaconda-cloud": {},
  "kernelspec": {
   "display_name": "Python 3",
   "language": "python",
   "name": "python3"
  },
  "language_info": {
   "codemirror_mode": {
    "name": "ipython",
    "version": 3
   },
   "file_extension": ".py",
   "mimetype": "text/x-python",
   "name": "python",
   "nbconvert_exporter": "python",
   "pygments_lexer": "ipython3",
   "version": "3.11.5"
  }
 },
 "nbformat": 4,
 "nbformat_minor": 1
}
